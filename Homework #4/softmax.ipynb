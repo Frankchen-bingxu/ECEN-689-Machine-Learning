{
 "cells": [
  {
   "cell_type": "markdown",
   "metadata": {
    "tags": [
     "pdf-title"
    ]
   },
   "source": [
    "# Softmax exercise\n",
    "\n",
    "*Complete and hand in this completed worksheet (including its outputs and any supporting code outside of the worksheet) with your assignment submission. For more details see the [assignments page](http://vision.stanford.edu/teaching/cs231n/assignments.html) on the course website.*\n",
    "\n",
    "This exercise is analogous to the SVM exercise. You will:\n",
    "\n",
    "- implement a fully-vectorized **loss function** for the Softmax classifier\n",
    "- implement the fully-vectorized expression for its **analytic gradient**\n",
    "- **check your implementation** with numerical gradient\n",
    "- use a validation set to **tune the learning rate and regularization** strength\n",
    "- **optimize** the loss function with **SGD**\n",
    "- **visualize** the final learned weights\n"
   ]
  },
  {
   "cell_type": "code",
   "execution_count": 1,
   "metadata": {
    "tags": [
     "pdf-ignore"
    ]
   },
   "outputs": [],
   "source": [
    "import random\n",
    "import numpy as np\n",
    "from cs231n.data_utils import load_CIFAR10\n",
    "import matplotlib.pyplot as plt\n",
    "\n",
    "%matplotlib inline\n",
    "plt.rcParams['figure.figsize'] = (10.0, 8.0) # set default size of plots\n",
    "plt.rcParams['image.interpolation'] = 'nearest'\n",
    "plt.rcParams['image.cmap'] = 'gray'\n",
    "\n",
    "# for auto-reloading extenrnal modules\n",
    "# see http://stackoverflow.com/questions/1907993/autoreload-of-modules-in-ipython\n",
    "%load_ext autoreload\n",
    "%autoreload 2"
   ]
  },
  {
   "cell_type": "code",
   "execution_count": 2,
   "metadata": {
    "tags": [
     "pdf-ignore"
    ]
   },
   "outputs": [
    {
     "name": "stdout",
     "output_type": "stream",
     "text": [
      "Train data shape:  (49000, 3073)\n",
      "Train labels shape:  (49000,)\n",
      "Validation data shape:  (1000, 3073)\n",
      "Validation labels shape:  (1000,)\n",
      "Test data shape:  (1000, 3073)\n",
      "Test labels shape:  (1000,)\n",
      "dev data shape:  (500, 3073)\n",
      "dev labels shape:  (500,)\n"
     ]
    }
   ],
   "source": [
    "def get_CIFAR10_data(num_training=49000, num_validation=1000, num_test=1000, num_dev=500):\n",
    "    \"\"\"\n",
    "    Load the CIFAR-10 dataset from disk and perform preprocessing to prepare\n",
    "    it for the linear classifier. These are the same steps as we used for the\n",
    "    SVM, but condensed to a single function.  \n",
    "    \"\"\"\n",
    "    # Load the raw CIFAR-10 data\n",
    "    cifar10_dir = 'cs231n/datasets/cifar-10-batches-py'\n",
    "    \n",
    "    # Cleaning up variables to prevent loading data multiple times (which may cause memory issue)\n",
    "    try:\n",
    "       del X_train, y_train\n",
    "       del X_test, y_test\n",
    "       print('Clear previously loaded data.')\n",
    "    except:\n",
    "       pass\n",
    "\n",
    "    X_train, y_train, X_test, y_test = load_CIFAR10(cifar10_dir)\n",
    "    \n",
    "    # subsample the data\n",
    "    mask = list(range(num_training, num_training + num_validation))\n",
    "    X_val = X_train[mask]\n",
    "    y_val = y_train[mask]\n",
    "    mask = list(range(num_training))\n",
    "    X_train = X_train[mask]\n",
    "    y_train = y_train[mask]\n",
    "    mask = list(range(num_test))\n",
    "    X_test = X_test[mask]\n",
    "    y_test = y_test[mask]\n",
    "    mask = np.random.choice(num_training, num_dev, replace=False)\n",
    "    X_dev = X_train[mask]\n",
    "    y_dev = y_train[mask]\n",
    "    \n",
    "    # Preprocessing: reshape the image data into rows\n",
    "    X_train = np.reshape(X_train, (X_train.shape[0], -1))\n",
    "    X_val = np.reshape(X_val, (X_val.shape[0], -1))\n",
    "    X_test = np.reshape(X_test, (X_test.shape[0], -1))\n",
    "    X_dev = np.reshape(X_dev, (X_dev.shape[0], -1))\n",
    "    \n",
    "    # Normalize the data: subtract the mean image\n",
    "    mean_image = np.mean(X_train, axis = 0)\n",
    "    X_train -= mean_image\n",
    "    X_val -= mean_image\n",
    "    X_test -= mean_image\n",
    "    X_dev -= mean_image\n",
    "    \n",
    "    # add bias dimension and transform into columns\n",
    "    X_train = np.hstack([X_train, np.ones((X_train.shape[0], 1))])\n",
    "    X_val = np.hstack([X_val, np.ones((X_val.shape[0], 1))])\n",
    "    X_test = np.hstack([X_test, np.ones((X_test.shape[0], 1))])\n",
    "    X_dev = np.hstack([X_dev, np.ones((X_dev.shape[0], 1))])\n",
    "    \n",
    "    return X_train, y_train, X_val, y_val, X_test, y_test, X_dev, y_dev\n",
    "\n",
    "\n",
    "# Invoke the above function to get our data.\n",
    "X_train, y_train, X_val, y_val, X_test, y_test, X_dev, y_dev = get_CIFAR10_data()\n",
    "print('Train data shape: ', X_train.shape)\n",
    "print('Train labels shape: ', y_train.shape)\n",
    "print('Validation data shape: ', X_val.shape)\n",
    "print('Validation labels shape: ', y_val.shape)\n",
    "print('Test data shape: ', X_test.shape)\n",
    "print('Test labels shape: ', y_test.shape)\n",
    "print('dev data shape: ', X_dev.shape)\n",
    "print('dev labels shape: ', y_dev.shape)"
   ]
  },
  {
   "cell_type": "markdown",
   "metadata": {},
   "source": [
    "## Softmax Classifier\n",
    "\n",
    "Your code for this section will all be written inside **cs231n/classifiers/softmax.py**. \n"
   ]
  },
  {
   "cell_type": "code",
   "execution_count": 3,
   "metadata": {},
   "outputs": [
    {
     "name": "stdout",
     "output_type": "stream",
     "text": [
      "loss: 2.367217\n",
      "sanity check: 2.302585\n"
     ]
    }
   ],
   "source": [
    "# First implement the naive softmax loss function with nested loops.\n",
    "# Open the file cs231n/classifiers/softmax.py and implement the\n",
    "\n",
    "from cs231n.classifiers.softmax import softmax_loss_naive\n",
    "import time\n",
    "\n",
    "# Generate a random softmax weight matrix and use it to compute the loss.\n",
    "W = np.random.randn(3073, 10) * 0.0001\n",
    "loss, grad = softmax_loss_naive(W, X_dev, y_dev, 0.0)\n",
    "\n",
    "# As a rough sanity check, our loss should be something close to -log(0.1).\n",
    "print('loss: %f' % loss)\n",
    "print('sanity check: %f' % (-np.log(0.1)))"
   ]
  },
  {
   "cell_type": "markdown",
   "metadata": {
    "tags": [
     "pdf-inline"
    ]
   },
   "source": [
    "**Inline Question 1**\n",
    "\n",
    "Why do we expect our loss to be close to -log(0.1)? Explain briefly.**\n",
    "\n",
    "$\\color{blue}{\\textit Your Answer:}$ \n",
    "\n",
    "Each weight is selected at random, meaning our expected value  for each of our weights is the same. That is, the expected value of e^f_j is equal to the expected value of e^(f_i). Thus, when looking at our definition of the loss function, if we take the expected value of it, we get -log(0.1), as the denominator is 10 times the numerator. \n",
    "\n"
   ]
  },
  {
   "cell_type": "code",
   "execution_count": 5,
   "metadata": {},
   "outputs": [
    {
     "name": "stdout",
     "output_type": "stream",
     "text": [
      "numerical: 0.389857 analytic: 0.389857, relative error: 3.049722e-08\n",
      "numerical: 2.289035 analytic: 2.289035, relative error: 6.092681e-09\n",
      "numerical: 0.772580 analytic: 0.772580, relative error: 3.382064e-08\n",
      "numerical: -0.983344 analytic: -0.983344, relative error: 6.414659e-09\n",
      "numerical: 0.765484 analytic: 0.765484, relative error: 3.959459e-08\n",
      "numerical: 1.760385 analytic: 1.760385, relative error: 1.521418e-08\n",
      "numerical: 0.338952 analytic: 0.338952, relative error: 1.067161e-07\n",
      "numerical: -0.780751 analytic: -0.780751, relative error: 1.403230e-08\n",
      "numerical: 0.721592 analytic: 0.721592, relative error: 2.412853e-08\n",
      "numerical: 3.032039 analytic: 3.032039, relative error: 1.406608e-08\n",
      "numerical: -2.007735 analytic: -2.007735, relative error: 1.850768e-08\n",
      "numerical: 2.707385 analytic: 2.707385, relative error: 1.197109e-08\n",
      "numerical: 1.039598 analytic: 1.039598, relative error: 3.462573e-08\n",
      "numerical: -0.479574 analytic: -0.479574, relative error: 4.459660e-08\n",
      "numerical: 1.708643 analytic: 1.708643, relative error: 2.434253e-08\n",
      "numerical: 2.749105 analytic: 2.749105, relative error: 2.273019e-08\n",
      "numerical: 1.813310 analytic: 1.813310, relative error: 5.375859e-08\n",
      "numerical: 0.355698 analytic: 0.355698, relative error: 1.428142e-07\n",
      "numerical: 0.721924 analytic: 0.721924, relative error: 2.299979e-08\n",
      "numerical: 0.997518 analytic: 0.997518, relative error: 5.021171e-08\n"
     ]
    }
   ],
   "source": [
    "# Complete the implementation of softmax_loss_naive and implement a (naive)\n",
    "# version of the gradient that uses nested loops.\n",
    "loss, grad = softmax_loss_naive(W, X_dev, y_dev, 0.0)\n",
    "\n",
    "# As we did for the SVM, use numeric gradient checking as a debugging tool.\n",
    "# The numeric gradient should be close to the analytic gradient.\n",
    "from cs231n.gradient_check import grad_check_sparse\n",
    "f = lambda w: softmax_loss_naive(w, X_dev, y_dev, 0.0)[0]\n",
    "grad_numerical = grad_check_sparse(f, W, grad, 10)\n",
    "\n",
    "# similar to SVM case, do another gradient check with regularization\n",
    "loss, grad = softmax_loss_naive(W, X_dev, y_dev, 5e1)\n",
    "f = lambda w: softmax_loss_naive(w, X_dev, y_dev, 5e1)[0]\n",
    "grad_numerical = grad_check_sparse(f, W, grad, 10)"
   ]
  },
  {
   "cell_type": "code",
   "execution_count": 29,
   "metadata": {},
   "outputs": [
    {
     "name": "stdout",
     "output_type": "stream",
     "text": [
      "naive loss: 2.367217e+00 computed in 0.158881s\n",
      "vectorized loss: 2.367217e+00 computed in 0.002001s\n",
      "Loss difference: 0.000000\n",
      "Gradient difference: 0.000000\n"
     ]
    }
   ],
   "source": [
    "# Now that we have a naive implementation of the softmax loss function and its gradient,\n",
    "# implement a vectorized version in softmax_loss_vectorized.\n",
    "# The two versions should compute the same results, but the vectorized version should be\n",
    "# much faster.\n",
    "tic = time.time()\n",
    "loss_naive, grad_naive = softmax_loss_naive(W, X_dev, y_dev, 0.000005)\n",
    "toc = time.time()\n",
    "print('naive loss: %e computed in %fs' % (loss_naive, toc - tic))\n",
    "\n",
    "from cs231n.classifiers.softmax import softmax_loss_vectorized\n",
    "tic = time.time()\n",
    "loss_vectorized, grad_vectorized = softmax_loss_vectorized(W, X_dev, y_dev, 0.000005)\n",
    "toc = time.time()\n",
    "print('vectorized loss: %e computed in %fs' % (loss_vectorized, toc - tic))\n",
    "\n",
    "# As we did for the SVM, we use the Frobenius norm to compare the two versions\n",
    "# of the gradient.\n",
    "grad_difference = np.linalg.norm(grad_naive - grad_vectorized, ord='fro')\n",
    "print('Loss difference: %f' % np.abs(loss_naive - loss_vectorized))\n",
    "print('Gradient difference: %f' % grad_difference)"
   ]
  },
  {
   "cell_type": "code",
   "execution_count": 37,
   "metadata": {
    "tags": [
     "code"
    ]
   },
   "outputs": [
    {
     "name": "stdout",
     "output_type": "stream",
     "text": [
      "lr 4.000000e-07 reg 3.000000e+04 train accuracy: 0.325878 val accuracy: 0.353000\n",
      "lr 4.000000e-07 reg 3.100000e+04 train accuracy: 0.326490 val accuracy: 0.347000\n",
      "lr 4.000000e-07 reg 3.200000e+04 train accuracy: 0.309408 val accuracy: 0.327000\n",
      "lr 4.000000e-07 reg 3.300000e+04 train accuracy: 0.322653 val accuracy: 0.332000\n",
      "lr 4.000000e-07 reg 3.400000e+04 train accuracy: 0.296816 val accuracy: 0.324000\n",
      "lr 4.000000e-07 reg 3.500000e+04 train accuracy: 0.314714 val accuracy: 0.327000\n",
      "lr 4.000000e-07 reg 3.600000e+04 train accuracy: 0.317673 val accuracy: 0.329000\n",
      "lr 4.000000e-07 reg 3.700000e+04 train accuracy: 0.315959 val accuracy: 0.331000\n",
      "lr 4.000000e-07 reg 3.800000e+04 train accuracy: 0.312857 val accuracy: 0.328000\n",
      "lr 4.000000e-07 reg 3.900000e+04 train accuracy: 0.320204 val accuracy: 0.331000\n",
      "lr 4.100000e-07 reg 3.000000e+04 train accuracy: 0.321102 val accuracy: 0.332000\n",
      "lr 4.100000e-07 reg 3.100000e+04 train accuracy: 0.324388 val accuracy: 0.336000\n",
      "lr 4.100000e-07 reg 3.200000e+04 train accuracy: 0.315939 val accuracy: 0.332000\n",
      "lr 4.100000e-07 reg 3.300000e+04 train accuracy: 0.322510 val accuracy: 0.331000\n",
      "lr 4.100000e-07 reg 3.400000e+04 train accuracy: 0.306653 val accuracy: 0.328000\n",
      "lr 4.100000e-07 reg 3.500000e+04 train accuracy: 0.310694 val accuracy: 0.320000\n",
      "lr 4.100000e-07 reg 3.600000e+04 train accuracy: 0.306490 val accuracy: 0.320000\n",
      "lr 4.100000e-07 reg 3.700000e+04 train accuracy: 0.313388 val accuracy: 0.329000\n",
      "lr 4.100000e-07 reg 3.800000e+04 train accuracy: 0.309306 val accuracy: 0.325000\n",
      "lr 4.100000e-07 reg 3.900000e+04 train accuracy: 0.296102 val accuracy: 0.311000\n",
      "lr 4.200000e-07 reg 3.000000e+04 train accuracy: 0.318776 val accuracy: 0.336000\n",
      "lr 4.200000e-07 reg 3.100000e+04 train accuracy: 0.314857 val accuracy: 0.325000\n",
      "lr 4.200000e-07 reg 3.200000e+04 train accuracy: 0.320041 val accuracy: 0.340000\n",
      "lr 4.200000e-07 reg 3.300000e+04 train accuracy: 0.307796 val accuracy: 0.324000\n",
      "lr 4.200000e-07 reg 3.400000e+04 train accuracy: 0.311939 val accuracy: 0.329000\n",
      "lr 4.200000e-07 reg 3.500000e+04 train accuracy: 0.312551 val accuracy: 0.330000\n",
      "lr 4.200000e-07 reg 3.600000e+04 train accuracy: 0.317531 val accuracy: 0.330000\n",
      "lr 4.200000e-07 reg 3.700000e+04 train accuracy: 0.306653 val accuracy: 0.323000\n",
      "lr 4.200000e-07 reg 3.800000e+04 train accuracy: 0.314102 val accuracy: 0.331000\n",
      "lr 4.200000e-07 reg 3.900000e+04 train accuracy: 0.309184 val accuracy: 0.322000\n",
      "lr 4.300000e-07 reg 3.000000e+04 train accuracy: 0.313612 val accuracy: 0.330000\n",
      "lr 4.300000e-07 reg 3.100000e+04 train accuracy: 0.314286 val accuracy: 0.323000\n",
      "lr 4.300000e-07 reg 3.200000e+04 train accuracy: 0.319653 val accuracy: 0.334000\n",
      "lr 4.300000e-07 reg 3.300000e+04 train accuracy: 0.323898 val accuracy: 0.335000\n",
      "lr 4.300000e-07 reg 3.400000e+04 train accuracy: 0.314061 val accuracy: 0.329000\n",
      "lr 4.300000e-07 reg 3.500000e+04 train accuracy: 0.316878 val accuracy: 0.333000\n",
      "lr 4.300000e-07 reg 3.600000e+04 train accuracy: 0.317939 val accuracy: 0.336000\n",
      "lr 4.300000e-07 reg 3.700000e+04 train accuracy: 0.315469 val accuracy: 0.334000\n",
      "lr 4.300000e-07 reg 3.800000e+04 train accuracy: 0.322224 val accuracy: 0.324000\n",
      "lr 4.300000e-07 reg 3.900000e+04 train accuracy: 0.316490 val accuracy: 0.326000\n",
      "lr 4.400000e-07 reg 3.000000e+04 train accuracy: 0.308918 val accuracy: 0.321000\n",
      "lr 4.400000e-07 reg 3.100000e+04 train accuracy: 0.315265 val accuracy: 0.338000\n",
      "lr 4.400000e-07 reg 3.200000e+04 train accuracy: 0.313020 val accuracy: 0.322000\n",
      "lr 4.400000e-07 reg 3.300000e+04 train accuracy: 0.312347 val accuracy: 0.321000\n",
      "lr 4.400000e-07 reg 3.400000e+04 train accuracy: 0.312816 val accuracy: 0.321000\n",
      "lr 4.400000e-07 reg 3.500000e+04 train accuracy: 0.307571 val accuracy: 0.315000\n",
      "lr 4.400000e-07 reg 3.600000e+04 train accuracy: 0.309082 val accuracy: 0.323000\n",
      "lr 4.400000e-07 reg 3.700000e+04 train accuracy: 0.305612 val accuracy: 0.321000\n",
      "lr 4.400000e-07 reg 3.800000e+04 train accuracy: 0.313102 val accuracy: 0.327000\n",
      "lr 4.400000e-07 reg 3.900000e+04 train accuracy: 0.307286 val accuracy: 0.330000\n",
      "lr 4.500000e-07 reg 3.000000e+04 train accuracy: 0.309857 val accuracy: 0.324000\n",
      "lr 4.500000e-07 reg 3.100000e+04 train accuracy: 0.316061 val accuracy: 0.331000\n",
      "lr 4.500000e-07 reg 3.200000e+04 train accuracy: 0.317490 val accuracy: 0.328000\n",
      "lr 4.500000e-07 reg 3.300000e+04 train accuracy: 0.317184 val accuracy: 0.336000\n",
      "lr 4.500000e-07 reg 3.400000e+04 train accuracy: 0.309735 val accuracy: 0.332000\n",
      "lr 4.500000e-07 reg 3.500000e+04 train accuracy: 0.330694 val accuracy: 0.345000\n",
      "lr 4.500000e-07 reg 3.600000e+04 train accuracy: 0.318367 val accuracy: 0.332000\n",
      "lr 4.500000e-07 reg 3.700000e+04 train accuracy: 0.316367 val accuracy: 0.330000\n",
      "lr 4.500000e-07 reg 3.800000e+04 train accuracy: 0.320000 val accuracy: 0.334000\n",
      "lr 4.500000e-07 reg 3.900000e+04 train accuracy: 0.308122 val accuracy: 0.329000\n",
      "lr 4.600000e-07 reg 3.000000e+04 train accuracy: 0.319163 val accuracy: 0.330000\n",
      "lr 4.600000e-07 reg 3.100000e+04 train accuracy: 0.318592 val accuracy: 0.338000\n",
      "lr 4.600000e-07 reg 3.200000e+04 train accuracy: 0.310776 val accuracy: 0.334000\n",
      "lr 4.600000e-07 reg 3.300000e+04 train accuracy: 0.307082 val accuracy: 0.326000\n",
      "lr 4.600000e-07 reg 3.400000e+04 train accuracy: 0.317184 val accuracy: 0.328000\n",
      "lr 4.600000e-07 reg 3.500000e+04 train accuracy: 0.325755 val accuracy: 0.346000\n",
      "lr 4.600000e-07 reg 3.600000e+04 train accuracy: 0.300408 val accuracy: 0.310000\n",
      "lr 4.600000e-07 reg 3.700000e+04 train accuracy: 0.315224 val accuracy: 0.329000\n",
      "lr 4.600000e-07 reg 3.800000e+04 train accuracy: 0.307918 val accuracy: 0.328000\n",
      "lr 4.600000e-07 reg 3.900000e+04 train accuracy: 0.313694 val accuracy: 0.323000\n",
      "lr 4.700000e-07 reg 3.000000e+04 train accuracy: 0.317510 val accuracy: 0.332000\n",
      "lr 4.700000e-07 reg 3.100000e+04 train accuracy: 0.327469 val accuracy: 0.345000\n",
      "lr 4.700000e-07 reg 3.200000e+04 train accuracy: 0.318286 val accuracy: 0.326000\n",
      "lr 4.700000e-07 reg 3.300000e+04 train accuracy: 0.311102 val accuracy: 0.326000\n",
      "lr 4.700000e-07 reg 3.400000e+04 train accuracy: 0.322143 val accuracy: 0.328000\n",
      "lr 4.700000e-07 reg 3.500000e+04 train accuracy: 0.308163 val accuracy: 0.317000\n",
      "lr 4.700000e-07 reg 3.600000e+04 train accuracy: 0.316918 val accuracy: 0.326000\n",
      "lr 4.700000e-07 reg 3.700000e+04 train accuracy: 0.309469 val accuracy: 0.329000\n",
      "lr 4.700000e-07 reg 3.800000e+04 train accuracy: 0.318367 val accuracy: 0.330000\n",
      "lr 4.700000e-07 reg 3.900000e+04 train accuracy: 0.324816 val accuracy: 0.332000\n",
      "lr 4.800000e-07 reg 3.000000e+04 train accuracy: 0.318122 val accuracy: 0.339000\n",
      "lr 4.800000e-07 reg 3.100000e+04 train accuracy: 0.323449 val accuracy: 0.339000\n",
      "lr 4.800000e-07 reg 3.200000e+04 train accuracy: 0.327020 val accuracy: 0.339000\n",
      "lr 4.800000e-07 reg 3.300000e+04 train accuracy: 0.313143 val accuracy: 0.334000\n",
      "lr 4.800000e-07 reg 3.400000e+04 train accuracy: 0.317245 val accuracy: 0.328000\n",
      "lr 4.800000e-07 reg 3.500000e+04 train accuracy: 0.314000 val accuracy: 0.311000\n",
      "lr 4.800000e-07 reg 3.600000e+04 train accuracy: 0.311898 val accuracy: 0.331000\n",
      "lr 4.800000e-07 reg 3.700000e+04 train accuracy: 0.309653 val accuracy: 0.320000\n",
      "lr 4.800000e-07 reg 3.800000e+04 train accuracy: 0.308980 val accuracy: 0.327000\n",
      "lr 4.800000e-07 reg 3.900000e+04 train accuracy: 0.317143 val accuracy: 0.336000\n",
      "lr 4.900000e-07 reg 3.000000e+04 train accuracy: 0.305735 val accuracy: 0.323000\n",
      "lr 4.900000e-07 reg 3.100000e+04 train accuracy: 0.310000 val accuracy: 0.315000\n",
      "lr 4.900000e-07 reg 3.200000e+04 train accuracy: 0.311918 val accuracy: 0.327000\n",
      "lr 4.900000e-07 reg 3.300000e+04 train accuracy: 0.307122 val accuracy: 0.321000\n",
      "lr 4.900000e-07 reg 3.400000e+04 train accuracy: 0.314776 val accuracy: 0.331000\n",
      "lr 4.900000e-07 reg 3.500000e+04 train accuracy: 0.320469 val accuracy: 0.331000\n",
      "lr 4.900000e-07 reg 3.600000e+04 train accuracy: 0.316531 val accuracy: 0.342000\n",
      "lr 4.900000e-07 reg 3.700000e+04 train accuracy: 0.322041 val accuracy: 0.331000\n",
      "lr 4.900000e-07 reg 3.800000e+04 train accuracy: 0.312673 val accuracy: 0.335000\n",
      "lr 4.900000e-07 reg 3.900000e+04 train accuracy: 0.305469 val accuracy: 0.321000\n",
      "best validation accuracy achieved during cross-validation: 0.353000\n"
     ]
    }
   ],
   "source": [
    "# Use the validation set to tune hyperparameters (regularization strength and\n",
    "# learning rate). You should experiment with different ranges for the learning\n",
    "# rates and regularization strengths; if you are careful you should be able to\n",
    "# get a classification accuracy of over 0.35 on the validation set.\n",
    "from cs231n.classifiers import Softmax\n",
    "results = {}\n",
    "best_val = -1\n",
    "best_softmax = None\n",
    "# We'll generate equally spaced hyperparameters and test over all of them.\n",
    "# This defines the length of the lists that we'll test over.\n",
    "num_param = 10\n",
    "# Then we'll set the upper and lower bounds for each of our hyperparameters.\n",
    "rate_low = 4e-7\n",
    "rate_high = 5e-7\n",
    "reg_low = 3e4\n",
    "reg_high = 4e4\n",
    "# Defining the new lists.\n",
    "learning_rates = np.arange(rate_low, rate_high, (rate_high - rate_low)/num_param)\n",
    "regularization_strengths = np.arange(reg_low, reg_high, (reg_high - reg_low)/num_param, dtype=int)\n",
    "\n",
    "\n",
    "################################################################################\n",
    "# TODO:                                                                        #\n",
    "# Use the validation set to set the learning rate and regularization strength. #\n",
    "# This should be identical to the validation that you did for the SVM; save    #\n",
    "# the best trained softmax classifer in best_softmax.                          #\n",
    "################################################################################\n",
    "# *****START OF YOUR CODE (DO NOT DELETE/MODIFY THIS LINE)*****\n",
    "\n",
    "# Initializing SVM just like the test we did above.\n",
    "svm = Softmax()\n",
    "\n",
    "# Since we're given two lists, learning_rates and regularization_strengths, we \n",
    "# iterate through every possible combination of them. \n",
    "for rate in learning_rates:\n",
    "    for reg in regularization_strengths:\n",
    "        # First, we get the training loss. \n",
    "        training_loss = svm.train(X_train, y_train, rate, reg, num_iters=300)\n",
    "        # Now that we've trained our model, we should look to predict our training data.\n",
    "        y_pred_train = svm.predict(X_train)\n",
    "        # We should check how well our model did, by looking at the empirical average of our\n",
    "        # successful predictions.\n",
    "        y_train_score = np.mean(y_pred_train == y_train)\n",
    "        # Now that we've trained it on the training data, we need to make predictions\n",
    "        # on the validation data. \n",
    "        y_pred_val = svm.predict(X_val)\n",
    "        # Again, checking how well it did based on empirical average of successful predictions.\n",
    "        y_val_score = np.mean(y_pred_val == y_val)\n",
    "        # Storing the training and validation accuracy. \n",
    "        results[(rate, reg)] = (y_train_score, y_val_score)\n",
    "        # Now we use an if statement to check if this model is better than any of the previous ones.\n",
    "        # If it is, update the best_val and best_svm. \n",
    "        if y_val_score > best_val:\n",
    "            best_val = y_val_score\n",
    "            best_softmax = svm\n",
    "\n",
    "\n",
    "# *****END OF YOUR CODE (DO NOT DELETE/MODIFY THIS LINE)*****\n",
    "    \n",
    "# Print out results.\n",
    "for lr, reg in sorted(results):\n",
    "    train_accuracy, val_accuracy = results[(lr, reg)]\n",
    "    print('lr %e reg %e train accuracy: %f val accuracy: %f' % (\n",
    "                lr, reg, train_accuracy, val_accuracy))\n",
    "    \n",
    "print('best validation accuracy achieved during cross-validation: %f' % best_val)"
   ]
  },
  {
   "cell_type": "code",
   "execution_count": 38,
   "metadata": {},
   "outputs": [
    {
     "name": "stdout",
     "output_type": "stream",
     "text": [
      "softmax on raw pixels final test set accuracy: 0.326000\n"
     ]
    }
   ],
   "source": [
    "# evaluate on test set\n",
    "# Evaluate the best softmax on test set\n",
    "y_test_pred = best_softmax.predict(X_test)\n",
    "test_accuracy = np.mean(y_test == y_test_pred)\n",
    "print('softmax on raw pixels final test set accuracy: %f' % (test_accuracy, ))"
   ]
  },
  {
   "cell_type": "markdown",
   "metadata": {
    "tags": [
     "pdf-inline"
    ]
   },
   "source": [
    "**Inline Question 2** - *True or False*\n",
    "\n",
    "Suppose the overall training loss is defined as the sum of the per-datapoint loss over all training examples. It is possible to add a new datapoint to a training set that would leave the SVM loss unchanged, but this is not the case with the Softmax classifier loss.\n",
    "\n",
    "$\\color{blue}{\\textit Your Answer:}$ True\n",
    "\n",
    "\n",
    "$\\color{blue}{\\textit Your Explanation:}$ \n",
    "\n",
    "With the Softmax classifier loss, we take into account the class probabilities, via exponentials. This differs from the loss in SVM, which uses max-margin. In cross entropy, there is no point added\n",
    "that would not have an impact on the Softmax loss, whereas in SVM, points outside of the margin range get ignored.\n",
    "\n"
   ]
  },
  {
   "cell_type": "code",
   "execution_count": 39,
   "metadata": {},
   "outputs": [
    {
     "data": {
      "image/png": "[encoded data removed]",
      "text/plain": [
       "<Figure size 432x288 with 10 Axes>"
      ]
     },
     "metadata": {
      "needs_background": "light"
     },
     "output_type": "display_data"
    }
   ],
   "source": [
    "# Visualize the learned weights for each class\n",
    "w = best_softmax.W[:-1,:] # strip out the bias\n",
    "w = w.reshape(32, 32, 3, 10)\n",
    "\n",
    "w_min, w_max = np.min(w), np.max(w)\n",
    "\n",
    "classes = ['plane', 'car', 'bird', 'cat', 'deer', 'dog', 'frog', 'horse', 'ship', 'truck']\n",
    "for i in range(10):\n",
    "    plt.subplot(2, 5, i + 1)\n",
    "    \n",
    "    # Rescale the weights to be between 0 and 255\n",
    "    wimg = 255.0 * (w[:, :, :, i].squeeze() - w_min) / (w_max - w_min)\n",
    "    plt.imshow(wimg.astype('uint8'))\n",
    "    plt.axis('off')\n",
    "    plt.title(classes[i])"
   ]
  },
  {
   "cell_type": "code",
   "execution_count": null,
   "metadata": {},
   "outputs": [],
   "source": []
  }
 ],
 "metadata": {
  "kernelspec": {
   "display_name": "Python 3",
   "language": "python",
   "name": "python3"
  },
  "language_info": {
   "codemirror_mode": {
    "name": "ipython",
    "version": 3
   },
   "file_extension": ".py",
   "mimetype": "text/x-python",
   "name": "python",
   "nbconvert_exporter": "python",
   "pygments_lexer": "ipython3",
   "version": "3.7.4"
  }
 },
 "nbformat": 4,
 "nbformat_minor": 1
}
